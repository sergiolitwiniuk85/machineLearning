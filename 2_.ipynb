{
  "cells": [
    {
      "cell_type": "markdown",
      "metadata": {
        "id": "view-in-github",
        "colab_type": "text"
      },
      "source": [
        "<a href=\"https://colab.research.google.com/github/sergiolitwiniuk85/machineLearning/blob/main/2_.ipynb\" target=\"_parent\"><img src=\"https://colab.research.google.com/assets/colab-badge.svg\" alt=\"Open In Colab\"/></a>"
      ]
    },
    {
      "cell_type": "markdown",
      "metadata": {
        "id": "uhnn_W4eiMRO",
        "nbgrader": {
          "grade": false,
          "grade_id": "cell-c539c087e489ae62",
          "locked": true,
          "schema_version": 3,
          "solution": false,
          "task": false
        }
      },
      "source": [
        "# Lista 2 de Ejercicios\n",
        "\n",
        "### Objetivo:\n",
        "Este ejercicio pretende aumentar la destreza del estudiante para dibujar gráficos descriptivos comunes, testear múltiples modelos de clasificación de forma rápida y poner en práctica transformadores habituales de la librería __sklearn__.\n",
        "\n",
        "### Tarea del estudiante:\n",
        "\n",
        "Mismas instrucciones que en el anterior Notebook.\n",
        "\n",
        "### Evaluación:\n",
        "Esta tarea tiene una puntuación de 14 puntos.\n",
        "La suma de todos los puntos obtenidas de todos los notebooks se ponderará sobre 10 puntos para computar la nota final del estudiante."
      ]
    },
    {
      "cell_type": "markdown",
      "metadata": {
        "id": "3RX3jrZriMRV",
        "nbgrader": {
          "grade": false,
          "grade_id": "cell-0a7317721d224b0d",
          "locked": true,
          "schema_version": 3,
          "solution": false,
          "task": false
        }
      },
      "source": [
        "## Parte 0: Inicialización\n",
        "\n",
        "En esta parte, simplemente cargamos las librerías que vamos a utilizar y establecemos una semilla para controlar la reproducibilidad del ejercicio."
      ]
    },
    {
      "cell_type": "code",
      "execution_count": null,
      "metadata": {
        "id": "2cSdlc85iMRX",
        "nbgrader": {
          "grade": false,
          "grade_id": "cell-f797ca551dde1426",
          "locked": true,
          "schema_version": 3,
          "solution": false,
          "task": false
        }
      },
      "outputs": [],
      "source": [
        "\"\"\" Librerías \"\"\"\n",
        "\n",
        "import pandas as pd\n",
        "import numpy as np\n",
        "import matplotlib.pyplot as plt\n",
        "import seaborn as sns\n",
        "import warnings\n",
        "\n",
        "sns.set_style('darkgrid')\n",
        "np.set_printoptions(precision=2)\n",
        "warnings.filterwarnings(\"ignore\")\n",
        "\n",
        "import sklearn\n",
        "from sklearn.preprocessing import MinMaxScaler, StandardScaler, Normalizer, Binarizer, RobustScaler\n",
        "from sklearn.compose import ColumnTransformer\n",
        "from sklearn.preprocessing import OneHotEncoder, LabelEncoder, PowerTransformer\n",
        "from sklearn.impute import SimpleImputer, KNNImputer\n",
        "\n",
        "from sklearn.feature_selection import SelectKBest, chi2, RFE\n",
        "from sklearn.model_selection import train_test_split\n",
        "from sklearn.pipeline import make_pipeline, Pipeline\n",
        "from sklearn.decomposition import PCA\n",
        "\n",
        "from sklearn.linear_model import LogisticRegression\n",
        "from sklearn.tree import DecisionTreeClassifier\n",
        "from sklearn.neighbors import KNeighborsClassifier\n",
        "from sklearn.discriminant_analysis import LinearDiscriminantAnalysis\n",
        "from sklearn.naive_bayes import GaussianNB\n",
        "from sklearn.ensemble import RandomForestClassifier, ExtraTreesClassifier\n",
        "from sklearn.linear_model import Perceptron\n",
        "from sklearn.svm import SVC\n",
        "\n",
        "from sklearn.metrics import accuracy_score, confusion_matrix, classification_report, f1_score\n",
        "\n",
        "from sklearn.model_selection import KFold, ShuffleSplit, LeaveOneOut, StratifiedKFold\n",
        "from sklearn.model_selection import cross_val_score, cross_val_predict\n",
        "from sklearn.model_selection import GridSearchCV, RandomizedSearchCV\n",
        "\n",
        "\"\"\" Semilla \"\"\"\n",
        "\n",
        "seed = 63"
      ]
    },
    {
      "cell_type": "markdown",
      "metadata": {
        "id": "zb0RrxyNiMRZ",
        "nbgrader": {
          "grade": false,
          "grade_id": "cell-183cf8a1a662f2c8",
          "locked": true,
          "schema_version": 3,
          "solution": false,
          "task": false
        }
      },
      "source": [
        "## Parte 1: Lectura y transformación de datos (0.5 puntos)\n",
        "\n",
        "En esta parte, principalmente, cargaremos los datos de un repositorio git y realizaremos una breve limpieza de los datos para conseguir un dataframe listo."
      ]
    },
    {
      "cell_type": "code",
      "execution_count": null,
      "metadata": {
        "id": "mAK1_72liMRa",
        "nbgrader": {
          "grade": false,
          "grade_id": "cell-ea491e68f09cc1a3",
          "locked": true,
          "schema_version": 3,
          "solution": false,
          "task": false
        }
      },
      "outputs": [],
      "source": [
        "df = pd.read_csv('https://raw.githubusercontent.com/eduardofc/data/main/kddcup99.csv')\n",
        "\n",
        "print(f'Número de filas: {df.shape[0]}, Número de columnas:{df.shape[1]}')\n",
        "df.head()"
      ]
    },
    {
      "cell_type": "markdown",
      "metadata": {
        "id": "9-2LgSmSiMRa",
        "nbgrader": {
          "grade": false,
          "grade_id": "cell-a196be290eb56313",
          "locked": true,
          "schema_version": 3,
          "solution": false,
          "task": false
        }
      },
      "source": [
        "Para entender la evolución de las transformaciones que vamos a ir haciendo, practicaremos algunos de los plots más utilizados.\n",
        "\n",
        "En la siguiente celda se pide, mostrar un _countplot_ (_barplot_ de seaborn) para todas las variables del _dataframe_ (df)."
      ]
    },
    {
      "cell_type": "code",
      "execution_count": null,
      "metadata": {
        "id": "vYKrRifOiMRb",
        "nbgrader": {
          "grade": false,
          "grade_id": "cell-a15861a1f91032f7",
          "locked": false,
          "schema_version": 3,
          "solution": true,
          "task": false
        }
      },
      "outputs": [],
      "source": [
        "### Codigo del estudiante"
      ]
    },
    {
      "cell_type": "markdown",
      "metadata": {
        "id": "rRfWT7aWiMRc",
        "nbgrader": {
          "grade": false,
          "grade_id": "cell-c7033e84359e60a4",
          "locked": true,
          "schema_version": 3,
          "solution": false,
          "task": false
        }
      },
      "source": [
        "Trabajaremos las variables categóricas con __pandas__. Trataremos de reducir el número de variables categóricas cuando existen demasiadas casuísiticas o cuando existen muy pocos registros en una categoría.\n",
        "\n",
        "En esta celda se pide,\n",
        "- para la variables _service_, localizar las 6 categorías más frecuentes y transformar estas columnas para que ponga _resto_ a todos aquellos registros de estas variables que no están entre las frecuentes, dejando así 7 catgorías en total.\n",
        "- para la variables _flag_, localizar las 4 categorías más frecuentes y transformar estas columnas para que ponga _resto_ a todos aquellos registros de estas variables que no están entre las frecuentes, dejando así 5 catgorías en total.\n",
        "\n",
        "Finalmente, eliminad duplicados."
      ]
    },
    {
      "cell_type": "code",
      "execution_count": null,
      "metadata": {
        "id": "-z067m3FiMRc",
        "nbgrader": {
          "grade": false,
          "grade_id": "cell-a5a25314bd66e4a1",
          "locked": false,
          "schema_version": 3,
          "solution": true,
          "task": false
        }
      },
      "outputs": [],
      "source": [
        "### Codigo del estudiante\n",
        "\n",
        "df.groupby('labels').size()"
      ]
    },
    {
      "cell_type": "markdown",
      "metadata": {
        "id": "ZACU_tXBiMRd",
        "nbgrader": {
          "grade": false,
          "grade_id": "cell-ef4218ea50842482",
          "locked": true,
          "schema_version": 3,
          "solution": false,
          "task": false
        }
      },
      "source": [
        "Celda de control:"
      ]
    },
    {
      "cell_type": "code",
      "execution_count": null,
      "metadata": {
        "id": "ia0ELu66iMRe",
        "nbgrader": {
          "grade": true,
          "grade_id": "cell-f34e386accfefe10",
          "locked": true,
          "points": 1,
          "schema_version": 3,
          "solution": false,
          "task": false
        }
      },
      "outputs": [],
      "source": [
        "assert df.shape == (210, 10)\n",
        "assert df.groupby('service').size()[\"resto\"] == 44\n",
        "assert df.groupby('flag').size()['resto'] == 25"
      ]
    },
    {
      "cell_type": "markdown",
      "metadata": {
        "id": "LGDe2owMiMRe",
        "nbgrader": {
          "grade": false,
          "grade_id": "cell-13029ef7207a7ef3",
          "locked": true,
          "schema_version": 3,
          "solution": false,
          "task": false
        }
      },
      "source": [
        "## Parte 2: Modelos\n",
        "\n",
        "En esta parte, testearemos distintos modelos con trasnformaciones adicionales a las vistas en la Lista 1 de Ejercicios.\n",
        "\n",
        "Nota: Recordar utilizar la semilla cuando aplique."
      ]
    },
    {
      "cell_type": "code",
      "execution_count": null,
      "metadata": {
        "id": "FrEZieHtiMRe",
        "nbgrader": {
          "grade": false,
          "grade_id": "cell-cc9160fb2e1ce323",
          "locked": true,
          "schema_version": 3,
          "solution": false,
          "task": false
        }
      },
      "outputs": [],
      "source": [
        "models = []\n",
        "models.append(('LR', LogisticRegression(random_state=seed)))\n",
        "models.append(('DTC', DecisionTreeClassifier(random_state=seed)))\n",
        "models.append(('PER', Perceptron(random_state=seed)))\n",
        "models.append(('RFC', RandomForestClassifier(random_state=seed)))\n",
        "\n",
        "def boxplots_algorithms(results, names):\n",
        "    plt.figure(figsize=(8,4))\n",
        "    plt.boxplot(results)\n",
        "    plt.xticks(range(1,len(names)+1), names)\n",
        "    plt.show()\n",
        "\n",
        "def pca_results(results, names, components):\n",
        "    df2 = pd.DataFrame(zip(results, names, components), columns=['results', 'names', 'components'])\n",
        "\n",
        "    sns.catplot(data=df2, kind=\"bar\", x=\"names\", y=\"results\", hue=\"components\", height=5, aspect=15/5)\n",
        "    plt.ylim((0.6, 1.))\n",
        "    plt.show()\n",
        "\n",
        "cat_cols = ['protocol_type', 'service', 'flag']\n",
        "num_cols = ['duration', 'count', 'srv_count', 'serror_rate',\n",
        "            'dst_host_srv_count', 'dst_host_srv_serror_rate']\n",
        "target = 'labels'"
      ]
    },
    {
      "cell_type": "markdown",
      "metadata": {
        "id": "-Y0pQBlmiMRf",
        "nbgrader": {
          "grade": false,
          "grade_id": "cell-a7131c8fd4aeb634",
          "locked": true,
          "schema_version": 3,
          "solution": false,
          "task": false
        }
      },
      "source": [
        "### Modelos 1 (2 puntos)\n",
        "\n",
        "Realizar un estudio de machine learning con las siguientes características:\n",
        "* probar los 4 algoritmos en bucle\n",
        "* usar la técnica de validación cruzada StratifiedKFold (5 _folds_) de forma aleatoria.\n",
        "* entrenar solo con variables numéricas\n",
        "\n",
        "En cada iteración del bucle, almacenar el resultado de cada validación cruzada en una variable _results_ y los nombres de cada algoritmo en una variable _names_.\n",
        "\n",
        "Finalmente, usaremos la función *boxplots_algorithms* para dibujar los resultados.\n",
        "\n",
        "Nota: La función _cross_val_score_ nos vale para estudiar el comportamiento de los modelos con una validación cruzada."
      ]
    },
    {
      "cell_type": "code",
      "execution_count": null,
      "metadata": {
        "id": "O6NfbuJ0iMRf",
        "nbgrader": {
          "grade": false,
          "grade_id": "cell-09c4daa9d9a689f8",
          "locked": false,
          "schema_version": 3,
          "solution": true,
          "task": false
        }
      },
      "outputs": [],
      "source": [
        "results = []\n",
        "names = []\n",
        "\n",
        "### Codigo del estudiante\n",
        "\n",
        "boxplots_algorithms(results, names)"
      ]
    },
    {
      "cell_type": "markdown",
      "metadata": {
        "id": "83LuO9tKiMRg",
        "nbgrader": {
          "grade": false,
          "grade_id": "cell-8d2e9053f818a102",
          "locked": true,
          "schema_version": 3,
          "solution": false,
          "task": false
        }
      },
      "source": [
        "Celda de control:"
      ]
    },
    {
      "cell_type": "code",
      "execution_count": null,
      "metadata": {
        "id": "Rkq4JxS7iMRg",
        "nbgrader": {
          "grade": true,
          "grade_id": "cell-4787932c001bbea8",
          "locked": true,
          "points": 2,
          "schema_version": 3,
          "solution": false,
          "task": false
        },
        "scrolled": true
      },
      "outputs": [],
      "source": [
        "assert np.round(results[0].mean(),3) == 0.843\n",
        "assert np.round(results[1].mean(),3) == 0.829\n",
        "assert np.round(results[2].mean(),3) == 0.695\n",
        "assert np.round(results[3].mean(),3) == 0.819"
      ]
    },
    {
      "cell_type": "markdown",
      "metadata": {
        "id": "JFqtXRZXiMRg",
        "nbgrader": {
          "grade": false,
          "grade_id": "cell-deb8e35d9f8934f2",
          "locked": true,
          "schema_version": 3,
          "solution": false,
          "task": false
        }
      },
      "source": [
        "### Modelos 2 (2 puntos)\n",
        "\n",
        "Realizar un estudio de machine learning con las siguientes características:\n",
        "* probar los 4 algoritmos en bucle\n",
        "* usar la técnica de validación cruzada KFolds (5 _folds_) aleatoria\n",
        "* usar un pipeline que encadene\n",
        "    * OneHotEncoder simple con las variables categóricas\n",
        "    * algortimo\n",
        "    * _remainder_ tipo _drop_\n",
        "* Filtrar en X todas las variables**\n",
        "\n",
        "\\*\\*Nota: Aunque la opción de _drop_ en el ColumnTransformer haga que solo se entrene con las variables que son usadas en este transformador, vamos a filtrar *X = df[cat_cols+num_cols]* para que podamos explorar la mejora en el siguiente apartado."
      ]
    },
    {
      "cell_type": "code",
      "execution_count": null,
      "metadata": {
        "id": "PQY1iICDiMRh",
        "nbgrader": {
          "grade": false,
          "grade_id": "cell-444a8be19a0a9fb0",
          "locked": false,
          "schema_version": 3,
          "solution": true,
          "task": false
        },
        "scrolled": false
      },
      "outputs": [],
      "source": [
        "results = []\n",
        "names = []\n",
        "\n",
        "### Codigo del estudiante\n",
        "\n",
        "boxplots_algorithms(results, names)"
      ]
    },
    {
      "cell_type": "markdown",
      "metadata": {
        "id": "OyRzLR6YiMRh",
        "nbgrader": {
          "grade": false,
          "grade_id": "cell-51fa3f4c2a9bca5e",
          "locked": true,
          "schema_version": 3,
          "solution": false,
          "task": false
        }
      },
      "source": [
        "Celda de control:"
      ]
    },
    {
      "cell_type": "code",
      "execution_count": null,
      "metadata": {
        "id": "9rXpMNMKiMRh",
        "nbgrader": {
          "grade": true,
          "grade_id": "cell-55e762bdf9990d27",
          "locked": true,
          "points": 2,
          "schema_version": 3,
          "solution": false,
          "task": false
        }
      },
      "outputs": [],
      "source": [
        "assert np.round(results[0].mean(),3) == 0.881\n",
        "assert np.round(results[1].mean(),3) == 0.876\n",
        "assert np.round(results[2].mean(),3) == 0.876\n",
        "assert np.round(results[3].mean(),3) == 0.886"
      ]
    },
    {
      "cell_type": "markdown",
      "metadata": {
        "id": "t0f7iDxYiMRh",
        "nbgrader": {
          "grade": false,
          "grade_id": "cell-59cc50a8317dc182",
          "locked": true,
          "schema_version": 3,
          "solution": false,
          "task": false
        }
      },
      "source": [
        "### Modelos 3 (1 punto)\n",
        "\n",
        "Realizar un mismo estudio que en Modelos 2, pero esta vez cambiando, la opción _remainder_ a tipo _passthrough_.\n",
        "\n",
        "Nota, se recomienda que estudiar el significado de este argumento y reflexionar sobre los resultados."
      ]
    },
    {
      "cell_type": "code",
      "execution_count": null,
      "metadata": {
        "id": "UodDTGPdiMRh",
        "nbgrader": {
          "grade": false,
          "grade_id": "cell-4146020f04d16253",
          "locked": false,
          "schema_version": 3,
          "solution": true,
          "task": false
        }
      },
      "outputs": [],
      "source": [
        "results = []\n",
        "names = []\n",
        "\n",
        "### Codigo del estudiante\n",
        "\n",
        "boxplots_algorithms(results, names)"
      ]
    },
    {
      "cell_type": "markdown",
      "metadata": {
        "id": "HeUDv_xdiMRi",
        "nbgrader": {
          "grade": false,
          "grade_id": "cell-467dc91a009ad969",
          "locked": true,
          "schema_version": 3,
          "solution": false,
          "task": false
        }
      },
      "source": [
        "Celda de control:"
      ]
    },
    {
      "cell_type": "code",
      "execution_count": null,
      "metadata": {
        "id": "pp7gcQg6iMRi",
        "nbgrader": {
          "grade": true,
          "grade_id": "cell-d8aa9f9022be8701",
          "locked": true,
          "points": 1,
          "schema_version": 3,
          "solution": false,
          "task": false
        }
      },
      "outputs": [],
      "source": [
        "assert np.round(results[0].mean(),3) == 0.929\n",
        "assert np.round(results[1].mean(),3) == 0.895\n",
        "assert np.round(results[2].mean(),3) == 0.905\n",
        "assert np.round(results[3].mean(),3) == 0.919"
      ]
    },
    {
      "cell_type": "markdown",
      "metadata": {
        "id": "NE7-i5wWiMRi",
        "nbgrader": {
          "grade": false,
          "grade_id": "cell-f4cd46d4888f3ea0",
          "locked": true,
          "schema_version": 3,
          "solution": false,
          "task": false
        }
      },
      "source": [
        "### Modelos 4 (3 puntos)\n",
        "\n",
        "Vamos a tratar de explorar si mejorarmos el modelo mediante una transformación de PCA. Usaremos las mismas (X,y). En esta celda se pide, realizar un estudio de machine learning en bucle con las siguientes características:\n",
        "* probad 4 algoritmos en bucle\n",
        "* probad 4 PCA dentro del pipeline y en bucle (dentro del bucle anterior) con _n\\_components_=2,3,4,5, para cada algoritmo\n",
        "* usad la técnica de validación Folds (5 folds) aleatorio\n",
        "* usad un pipeline que encadene\n",
        "     * One-hot-encoder con las variables categoricas, especificando eliminar la primera columna si es binaria\n",
        "     * PCA\n",
        "     * algortimo\n",
        "* mostrad la matriz de confusión en cada caso\n",
        "\n",
        "En cada iteración del bucle, almacenar la media de cada resultado de cada validación cruzada en una variable _results_ y los nombres de cada algoritmo en una variable _names_. Además, se pide guardar las componentes en la lista _components_).\n",
        "\n",
        "Finalmente, usaremos la función *pca_results* para dibujar los resultados.\n",
        "\n",
        "- Nota 1, ojo que esta vez se pide guardar la media de los resultados, no todos los resultados.\n",
        "\n",
        "- Nota 2, revisad que primero sea un bucle que itere los modelos y, dentro de este bucle, otro bucle que itere las componentes.\n",
        "\n",
        "- Nota 3, PCA tiene _random_state_."
      ]
    },
    {
      "cell_type": "code",
      "execution_count": null,
      "metadata": {
        "id": "TYysWvZqiMRj",
        "nbgrader": {
          "grade": false,
          "grade_id": "cell-db68daa0a2cf64ff",
          "locked": false,
          "schema_version": 3,
          "solution": true,
          "task": false
        }
      },
      "outputs": [],
      "source": [
        "results = []\n",
        "names = []\n",
        "components = []\n",
        "\n",
        "### Codigo del estudiante\n",
        "\n",
        "pca_results(results, names, components)"
      ]
    },
    {
      "cell_type": "markdown",
      "metadata": {
        "id": "gTgJqVvRiMRj",
        "nbgrader": {
          "grade": false,
          "grade_id": "cell-0f4e6c0f858bae6a",
          "locked": true,
          "schema_version": 3,
          "solution": false,
          "task": false
        }
      },
      "source": [
        "Celda de control:"
      ]
    },
    {
      "cell_type": "code",
      "execution_count": null,
      "metadata": {
        "id": "WG_1gm7diMRj",
        "nbgrader": {
          "grade": true,
          "grade_id": "cell-7196386542db0508",
          "locked": true,
          "points": 3,
          "schema_version": 3,
          "solution": false,
          "task": false
        }
      },
      "outputs": [],
      "source": [
        "assert [np.round(results[x], 3) for x in [1,7,10]] == [0.905, 0.862, 0.862]"
      ]
    },
    {
      "cell_type": "markdown",
      "metadata": {
        "id": "EBRd8ZaCiMRk",
        "nbgrader": {
          "grade": false,
          "grade_id": "cell-75af48b272ef32ec",
          "locked": true,
          "schema_version": 3,
          "solution": false,
          "task": false
        }
      },
      "source": [
        "### Modelos 5 (2.5 puntos)\n",
        "\n",
        "De ahora en adelante, trabajaremos solo con el algoritmo de RandomForestClassifier (sin PCA) y entrenaremos con todas las variables, teniendo en cuenta que las variables categóricas deben transformarse previamente con un OHE.\n",
        "\n",
        "En esta celda se pide, separar primero el _dataset_ en _train_ (80%) y _test_ (20%). Tras ello, solo con el _train_, se pide realizar un ajuste de machine learning con las siguientes características:\n",
        "\n",
        "* Sin validación cruzada\n",
        "* Usar un pipeline que encadene\n",
        "    * One-hot-encoder con las variables categóricas, especificando eliminar la primera columna si es binaria\n",
        "    * algortimo\n",
        "* Realizar la predicción de _train_ y _test_ por separado para poder mostrar ambas matrices de confusión.\n",
        "\n",
        "En esta parte, conviene reflexionar si se está haciendo _overfitting_. Al entrenar con _train_ y evaluar con _test_ después, si las métricas difieren demasiado a juicio del _data scientist_, podríamos considerar que pueda existir sobreajuste. Teóricamente la validación cruzada ayuda a minimizar este problema; sin embargo, no siempre es así (sobre todo con algoritmos de tipo árbol) y conviene chequear que esto no ocurra. En esta celda, se va a pedir almacenar el _accuracy_ del modelo para los conjuntos _train_ y _test_, y se van a almacenar en las variables _acc_train_ y _acc_test_.\n",
        "\n",
        "Otra cosa a tener en cuenta es la matriz de confusión. Ésta ofrece siempre el resultado de aplicar el modelo en la clasificación de una forma más legible, lo que ayuda a interpretar mejor el comportamiento de este modelo. En esta celda, almacenaremos ambas matrices de confusión en las variables _cm_train_ y _cm_test_.\n",
        "\n",
        "Nota, no olvidar la semilla."
      ]
    },
    {
      "cell_type": "code",
      "execution_count": null,
      "metadata": {
        "id": "GNIblz7XiMRl",
        "nbgrader": {
          "grade": false,
          "grade_id": "cell-f7165c2db7db0db0",
          "locked": false,
          "schema_version": 3,
          "solution": true,
          "task": false
        }
      },
      "outputs": [],
      "source": [
        "acc_train = 0\n",
        "acc_test = 0\n",
        "\n",
        "cm_train = np.array([[0, 0],[0, 0]])\n",
        "cm_test = np.array([[0, 0],[0, 0]])\n",
        "\n",
        "### Codigo del estudiante\n",
        "\n",
        "print(cm_train)\n",
        "print(acc_train)\n",
        "\n",
        "print(cm_test)\n",
        "print(acc_test)"
      ]
    },
    {
      "cell_type": "markdown",
      "metadata": {
        "id": "qV57ThZsiMRl",
        "nbgrader": {
          "grade": false,
          "grade_id": "cell-4c90f63864e1ad03",
          "locked": true,
          "schema_version": 3,
          "solution": false,
          "task": false
        }
      },
      "source": [
        "Celda de control:"
      ]
    },
    {
      "cell_type": "code",
      "execution_count": null,
      "metadata": {
        "id": "ZI2uTlxliMRm",
        "nbgrader": {
          "grade": true,
          "grade_id": "cell-500ece4ed7d8b320",
          "locked": true,
          "points": 3,
          "schema_version": 3,
          "solution": false,
          "task": false
        }
      },
      "outputs": [],
      "source": [
        "assert np.round(acc_train, 4) == 0.9643\n",
        "assert np.round(acc_test, 4) == 0.8810\n",
        "assert (cm_train[0][0], cm_train[0][1], cm_train[1][0], cm_train[1][1]) == (44, 2, 4, 118)\n",
        "assert (cm_test[0][0], cm_test[0][1], cm_test[1][0], cm_test[1][1]) == (10, 5, 0, 27)"
      ]
    },
    {
      "cell_type": "markdown",
      "metadata": {
        "id": "h_g30Ev6iMRp",
        "nbgrader": {
          "grade": false,
          "grade_id": "cell-8a9639c3a7928e08",
          "locked": true,
          "schema_version": 3,
          "solution": false,
          "task": false
        }
      },
      "source": [
        "### Modelos 6 (3 puntos)\n",
        "\n",
        "En el modelo previo, ya hemos encontrado un ajuste razonable. Ahora toca explorar si existe alguna parametrización que ayude a mejorar esta métrica.\n",
        "\n",
        "En esta celda, vamos a separar primero el dataset en train y test. En concreto, separaremos el 20% del dataset en el test-set con el que validaremos la calidad real del modelo. Sin embargo, aquí añadiremos el argumento *stratified* dentro del `train_test_split` para asegurarnos de que hace una correcta partición entre las variables *y*.\n",
        "\n",
        "Tras ello, solo con el _train_, se pide realizar un ajuste de machine learning con las siguientes características:\n",
        "* usar el mismo algoritmo que en el apartado anterior\n",
        "* usar la técnica de validación cruzada KFolds (5 folds)\n",
        "* usar un pipeline que encadene:\n",
        "     * OneHotEncoder si son tipo variables tipo _string_, especificando eliminar la primera columna si es binaria\n",
        "     * algortimo\n",
        "* realizar un tuneado del modelo con GridSearchCV (que almacenaremos en la variable *grid_model*) con los siguientes parámetros del algoritmo:\n",
        "     * _n\\_estimators_, 10, 20 y 30,\n",
        "     * *max_features*, auto, sqrt y log2,\n",
        "     * *max_depth*, 10, 20, 50, 70 y 100\n",
        "     * _criterion_, gini y entropy.\n",
        "    \n",
        "Con el mejor de los modelos tuneados, realizad la predicción de _train_ y _test_ para mostrar ambas matrices de confusión y accuracies como en la celda anterior."
      ]
    },
    {
      "cell_type": "code",
      "execution_count": null,
      "metadata": {
        "id": "l2nwLeMFiMRp",
        "nbgrader": {
          "grade": false,
          "grade_id": "cell-86a586d1f842910a",
          "locked": false,
          "schema_version": 3,
          "solution": true,
          "task": false
        }
      },
      "outputs": [],
      "source": [
        "acc_train = 0\n",
        "acc_test = 0\n",
        "\n",
        "cm_train = np.array([[0, 0],[0, 0]])\n",
        "cm_test = np.array([[0, 0],[0, 0]])\n",
        "\n",
        "### Codigo del estudiante\n",
        "\n",
        "print(cm_train)\n",
        "print(acc_train)\n",
        "\n",
        "print(cm_test)\n",
        "print(acc_test)\n",
        "\n",
        "print(f'Best score: {grid_model.best_score_:.4f}')\n",
        "grid_model.best_estimator_"
      ]
    },
    {
      "cell_type": "markdown",
      "metadata": {
        "id": "G-NFvadxiMRq",
        "nbgrader": {
          "grade": false,
          "grade_id": "cell-44b0aa5277268091",
          "locked": true,
          "schema_version": 3,
          "solution": false,
          "task": false
        }
      },
      "source": [
        "Celda de control:"
      ]
    },
    {
      "cell_type": "code",
      "execution_count": null,
      "metadata": {
        "id": "I7K80wliiMRq",
        "nbgrader": {
          "grade": true,
          "grade_id": "cell-c1df28aa144f6323",
          "locked": true,
          "points": 3,
          "schema_version": 3,
          "solution": false,
          "task": false
        }
      },
      "outputs": [],
      "source": [
        "assert grid_model.cv.random_state == seed\n",
        "assert np.round(acc_train, 4) == 0.9762\n",
        "assert np.round(acc_test, 4) == 0.8810\n",
        "assert (cm_train[0][0], cm_train[0][1], cm_train[1][0], cm_train[1][1]) == (47, 2, 2, 117)\n",
        "assert (cm_test[0][0], cm_test[0][1], cm_test[1][0], cm_test[1][1]) == (9, 3, 2, 28)\n",
        "assert len(grid_model.param_grid) == 4\n",
        "assert len(grid_model.estimator.named_steps) == 2"
      ]
    },
    {
      "cell_type": "code",
      "execution_count": null,
      "metadata": {
        "id": "qw-EfKF4iMRr"
      },
      "outputs": [],
      "source": []
    }
  ],
  "metadata": {
    "celltoolbar": "Create Assignment",
    "colab": {
      "provenance": [],
      "include_colab_link": true
    },
    "kernelspec": {
      "display_name": "Python 3 (ipykernel)",
      "language": "python",
      "name": "python3"
    },
    "language_info": {
      "codemirror_mode": {
        "name": "ipython",
        "version": 3
      },
      "file_extension": ".py",
      "mimetype": "text/x-python",
      "name": "python",
      "nbconvert_exporter": "python",
      "pygments_lexer": "ipython3",
      "version": "3.10.13"
    }
  },
  "nbformat": 4,
  "nbformat_minor": 0
}